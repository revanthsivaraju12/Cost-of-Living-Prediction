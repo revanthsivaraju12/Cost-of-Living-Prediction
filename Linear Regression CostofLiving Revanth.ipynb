{
 "cells": [
  {
   "cell_type": "code",
   "execution_count": 4,
   "metadata": {},
   "outputs": [],
   "source": [
    "import pandas as pd\n",
    "import numpy as np\n",
    "import pylab as plt\n",
    "%matplotlib inline"
   ]
  },
  {
   "cell_type": "code",
   "execution_count": 5,
   "metadata": {},
   "outputs": [],
   "source": [
    "import seaborn as sns"
   ]
  },
  {
   "cell_type": "code",
   "execution_count": 8,
   "metadata": {},
   "outputs": [
    {
     "data": {
      "text/html": [
       "<div>\n",
       "<style scoped>\n",
       "    .dataframe tbody tr th:only-of-type {\n",
       "        vertical-align: middle;\n",
       "    }\n",
       "\n",
       "    .dataframe tbody tr th {\n",
       "        vertical-align: top;\n",
       "    }\n",
       "\n",
       "    .dataframe thead th {\n",
       "        text-align: right;\n",
       "    }\n",
       "</style>\n",
       "<table border=\"1\" class=\"dataframe\">\n",
       "  <thead>\n",
       "    <tr style=\"text-align: right;\">\n",
       "      <th></th>\n",
       "      <th>City</th>\n",
       "      <th>CostofLivingIndex</th>\n",
       "      <th>RentIndex</th>\n",
       "      <th>GroceriesIndex</th>\n",
       "      <th>RestaurantPriceIndex</th>\n",
       "      <th>LocalPurchasingPowerIndex</th>\n",
       "    </tr>\n",
       "    <tr>\n",
       "      <th>Rank</th>\n",
       "      <th></th>\n",
       "      <th></th>\n",
       "      <th></th>\n",
       "      <th></th>\n",
       "      <th></th>\n",
       "      <th></th>\n",
       "    </tr>\n",
       "  </thead>\n",
       "  <tbody>\n",
       "    <tr>\n",
       "      <th>1</th>\n",
       "      <td>Zurich, Switzerland</td>\n",
       "      <td>149.53</td>\n",
       "      <td>66.76</td>\n",
       "      <td>163.71</td>\n",
       "      <td>140.58</td>\n",
       "      <td>126.30</td>\n",
       "    </tr>\n",
       "    <tr>\n",
       "      <th>2</th>\n",
       "      <td>Hamilton, Bermuda</td>\n",
       "      <td>148.13</td>\n",
       "      <td>117.80</td>\n",
       "      <td>145.20</td>\n",
       "      <td>152.54</td>\n",
       "      <td>93.42</td>\n",
       "    </tr>\n",
       "    <tr>\n",
       "      <th>3</th>\n",
       "      <td>Zug, Switzerland</td>\n",
       "      <td>142.54</td>\n",
       "      <td>67.39</td>\n",
       "      <td>148.36</td>\n",
       "      <td>143.18</td>\n",
       "      <td>105.62</td>\n",
       "    </tr>\n",
       "    <tr>\n",
       "      <th>4</th>\n",
       "      <td>Geneva, Switzerland</td>\n",
       "      <td>142.12</td>\n",
       "      <td>70.25</td>\n",
       "      <td>147.13</td>\n",
       "      <td>138.96</td>\n",
       "      <td>115.20</td>\n",
       "    </tr>\n",
       "    <tr>\n",
       "      <th>5</th>\n",
       "      <td>Basel, Switzerland</td>\n",
       "      <td>142.02</td>\n",
       "      <td>51.54</td>\n",
       "      <td>149.54</td>\n",
       "      <td>131.72</td>\n",
       "      <td>113.13</td>\n",
       "    </tr>\n",
       "  </tbody>\n",
       "</table>\n",
       "</div>"
      ],
      "text/plain": [
       "                     City  CostofLivingIndex  RentIndex  GroceriesIndex  \\\n",
       "Rank                                                                      \n",
       "1     Zurich, Switzerland             149.53      66.76          163.71   \n",
       "2       Hamilton, Bermuda             148.13     117.80          145.20   \n",
       "3        Zug, Switzerland             142.54      67.39          148.36   \n",
       "4     Geneva, Switzerland             142.12      70.25          147.13   \n",
       "5      Basel, Switzerland             142.02      51.54          149.54   \n",
       "\n",
       "      RestaurantPriceIndex  LocalPurchasingPowerIndex  \n",
       "Rank                                                   \n",
       "1                   140.58                     126.30  \n",
       "2                   152.54                      93.42  \n",
       "3                   143.18                     105.62  \n",
       "4                   138.96                     115.20  \n",
       "5                   131.72                     113.13  "
      ]
     },
     "execution_count": 8,
     "metadata": {},
     "output_type": "execute_result"
    }
   ],
   "source": [
    "data = pd.read_csv('C:/Users/Revanth Sivaraju/Downloads/CLI data.csv', index_col=0)\n",
    "data.head()"
   ]
  },
  {
   "cell_type": "code",
   "execution_count": 9,
   "metadata": {},
   "outputs": [
    {
     "data": {
      "text/plain": [
       "(511, 6)"
      ]
     },
     "execution_count": 9,
     "metadata": {},
     "output_type": "execute_result"
    }
   ],
   "source": [
    "data.shape"
   ]
  },
  {
   "cell_type": "code",
   "execution_count": 15,
   "metadata": {},
   "outputs": [
    {
     "data": {
      "text/html": [
       "<div>\n",
       "<style scoped>\n",
       "    .dataframe tbody tr th:only-of-type {\n",
       "        vertical-align: middle;\n",
       "    }\n",
       "\n",
       "    .dataframe tbody tr th {\n",
       "        vertical-align: top;\n",
       "    }\n",
       "\n",
       "    .dataframe thead th {\n",
       "        text-align: right;\n",
       "    }\n",
       "</style>\n",
       "<table border=\"1\" class=\"dataframe\">\n",
       "  <thead>\n",
       "    <tr style=\"text-align: right;\">\n",
       "      <th></th>\n",
       "      <th>CostofLivingIndex</th>\n",
       "      <th>RentIndex</th>\n",
       "      <th>GroceriesIndex</th>\n",
       "      <th>RestaurantPriceIndex</th>\n",
       "      <th>LocalPurchasingPowerIndex</th>\n",
       "    </tr>\n",
       "    <tr>\n",
       "      <th>Rank</th>\n",
       "      <th></th>\n",
       "      <th></th>\n",
       "      <th></th>\n",
       "      <th></th>\n",
       "      <th></th>\n",
       "    </tr>\n",
       "  </thead>\n",
       "  <tbody>\n",
       "    <tr>\n",
       "      <th>1</th>\n",
       "      <td>149.53</td>\n",
       "      <td>66.76</td>\n",
       "      <td>163.71</td>\n",
       "      <td>140.58</td>\n",
       "      <td>126.30</td>\n",
       "    </tr>\n",
       "    <tr>\n",
       "      <th>2</th>\n",
       "      <td>148.13</td>\n",
       "      <td>117.80</td>\n",
       "      <td>145.20</td>\n",
       "      <td>152.54</td>\n",
       "      <td>93.42</td>\n",
       "    </tr>\n",
       "    <tr>\n",
       "      <th>3</th>\n",
       "      <td>142.54</td>\n",
       "      <td>67.39</td>\n",
       "      <td>148.36</td>\n",
       "      <td>143.18</td>\n",
       "      <td>105.62</td>\n",
       "    </tr>\n",
       "    <tr>\n",
       "      <th>4</th>\n",
       "      <td>142.12</td>\n",
       "      <td>70.25</td>\n",
       "      <td>147.13</td>\n",
       "      <td>138.96</td>\n",
       "      <td>115.20</td>\n",
       "    </tr>\n",
       "    <tr>\n",
       "      <th>5</th>\n",
       "      <td>142.02</td>\n",
       "      <td>51.54</td>\n",
       "      <td>149.54</td>\n",
       "      <td>131.72</td>\n",
       "      <td>113.13</td>\n",
       "    </tr>\n",
       "  </tbody>\n",
       "</table>\n",
       "</div>"
      ],
      "text/plain": [
       "      CostofLivingIndex  RentIndex  GroceriesIndex  RestaurantPriceIndex  \\\n",
       "Rank                                                                       \n",
       "1                149.53      66.76          163.71                140.58   \n",
       "2                148.13     117.80          145.20                152.54   \n",
       "3                142.54      67.39          148.36                143.18   \n",
       "4                142.12      70.25          147.13                138.96   \n",
       "5                142.02      51.54          149.54                131.72   \n",
       "\n",
       "      LocalPurchasingPowerIndex  \n",
       "Rank                             \n",
       "1                        126.30  \n",
       "2                         93.42  \n",
       "3                        105.62  \n",
       "4                        115.20  \n",
       "5                        113.13  "
      ]
     },
     "execution_count": 15,
     "metadata": {},
     "output_type": "execute_result"
    }
   ],
   "source": [
    "data.head()"
   ]
  },
  {
   "cell_type": "code",
   "execution_count": 16,
   "metadata": {},
   "outputs": [
    {
     "name": "stdout",
     "output_type": "stream",
     "text": [
      "<class 'pandas.core.frame.DataFrame'>\n",
      "Int64Index: 511 entries, 1 to 511\n",
      "Data columns (total 5 columns):\n",
      "CostofLivingIndex            511 non-null float64\n",
      "RentIndex                    511 non-null float64\n",
      "GroceriesIndex               511 non-null float64\n",
      "RestaurantPriceIndex         511 non-null float64\n",
      "LocalPurchasingPowerIndex    511 non-null float64\n",
      "dtypes: float64(5)\n",
      "memory usage: 24.0 KB\n"
     ]
    }
   ],
   "source": [
    "data.info()"
   ]
  },
  {
   "cell_type": "code",
   "execution_count": 17,
   "metadata": {},
   "outputs": [
    {
     "data": {
      "text/html": [
       "<div>\n",
       "<style scoped>\n",
       "    .dataframe tbody tr th:only-of-type {\n",
       "        vertical-align: middle;\n",
       "    }\n",
       "\n",
       "    .dataframe tbody tr th {\n",
       "        vertical-align: top;\n",
       "    }\n",
       "\n",
       "    .dataframe thead th {\n",
       "        text-align: right;\n",
       "    }\n",
       "</style>\n",
       "<table border=\"1\" class=\"dataframe\">\n",
       "  <thead>\n",
       "    <tr style=\"text-align: right;\">\n",
       "      <th></th>\n",
       "      <th>CostofLivingIndex</th>\n",
       "      <th>RentIndex</th>\n",
       "      <th>GroceriesIndex</th>\n",
       "      <th>RestaurantPriceIndex</th>\n",
       "      <th>LocalPurchasingPowerIndex</th>\n",
       "    </tr>\n",
       "  </thead>\n",
       "  <tbody>\n",
       "    <tr>\n",
       "      <th>count</th>\n",
       "      <td>511.000000</td>\n",
       "      <td>511.000000</td>\n",
       "      <td>511.000000</td>\n",
       "      <td>511.000000</td>\n",
       "      <td>511.000000</td>\n",
       "    </tr>\n",
       "    <tr>\n",
       "      <th>mean</th>\n",
       "      <td>65.177691</td>\n",
       "      <td>26.765793</td>\n",
       "      <td>63.414697</td>\n",
       "      <td>58.992524</td>\n",
       "      <td>79.989687</td>\n",
       "    </tr>\n",
       "    <tr>\n",
       "      <th>std</th>\n",
       "      <td>22.371029</td>\n",
       "      <td>17.651107</td>\n",
       "      <td>24.380114</td>\n",
       "      <td>26.669124</td>\n",
       "      <td>33.742696</td>\n",
       "    </tr>\n",
       "    <tr>\n",
       "      <th>min</th>\n",
       "      <td>21.750000</td>\n",
       "      <td>3.130000</td>\n",
       "      <td>22.030000</td>\n",
       "      <td>12.120000</td>\n",
       "      <td>2.960000</td>\n",
       "    </tr>\n",
       "    <tr>\n",
       "      <th>25%</th>\n",
       "      <td>45.740000</td>\n",
       "      <td>12.975000</td>\n",
       "      <td>42.460000</td>\n",
       "      <td>33.325000</td>\n",
       "      <td>51.285000</td>\n",
       "    </tr>\n",
       "    <tr>\n",
       "      <th>50%</th>\n",
       "      <td>70.640000</td>\n",
       "      <td>24.540000</td>\n",
       "      <td>64.980000</td>\n",
       "      <td>65.370000</td>\n",
       "      <td>84.160000</td>\n",
       "    </tr>\n",
       "    <tr>\n",
       "      <th>75%</th>\n",
       "      <td>79.765000</td>\n",
       "      <td>34.440000</td>\n",
       "      <td>80.460000</td>\n",
       "      <td>78.175000</td>\n",
       "      <td>104.555000</td>\n",
       "    </tr>\n",
       "    <tr>\n",
       "      <th>max</th>\n",
       "      <td>149.530000</td>\n",
       "      <td>119.630000</td>\n",
       "      <td>163.710000</td>\n",
       "      <td>152.540000</td>\n",
       "      <td>176.220000</td>\n",
       "    </tr>\n",
       "  </tbody>\n",
       "</table>\n",
       "</div>"
      ],
      "text/plain": [
       "       CostofLivingIndex   RentIndex  GroceriesIndex  RestaurantPriceIndex  \\\n",
       "count         511.000000  511.000000      511.000000            511.000000   \n",
       "mean           65.177691   26.765793       63.414697             58.992524   \n",
       "std            22.371029   17.651107       24.380114             26.669124   \n",
       "min            21.750000    3.130000       22.030000             12.120000   \n",
       "25%            45.740000   12.975000       42.460000             33.325000   \n",
       "50%            70.640000   24.540000       64.980000             65.370000   \n",
       "75%            79.765000   34.440000       80.460000             78.175000   \n",
       "max           149.530000  119.630000      163.710000            152.540000   \n",
       "\n",
       "       LocalPurchasingPowerIndex  \n",
       "count                 511.000000  \n",
       "mean                   79.989687  \n",
       "std                    33.742696  \n",
       "min                     2.960000  \n",
       "25%                    51.285000  \n",
       "50%                    84.160000  \n",
       "75%                   104.555000  \n",
       "max                   176.220000  "
      ]
     },
     "execution_count": 17,
     "metadata": {},
     "output_type": "execute_result"
    }
   ],
   "source": [
    "data.describe()"
   ]
  },
  {
   "cell_type": "markdown",
   "metadata": {},
   "source": [
    "## Visualize Data"
   ]
  },
  {
   "cell_type": "code",
   "execution_count": 18,
   "metadata": {},
   "outputs": [
    {
     "data": {
      "image/png": "[encoded data removed]",
      "text/plain": [
       "<Figure size 432x288 with 1 Axes>"
      ]
     },
     "metadata": {},
     "output_type": "display_data"
    }
   ],
   "source": [
    "\n",
    "\n",
    "data['CostofLivingIndex'].hist();"
   ]
  },
  {
   "cell_type": "code",
   "execution_count": 19,
   "metadata": {},
   "outputs": [
    {
     "data": {
      "image/png": "[encoded data removed]",
      "text/plain": [
       "<Figure size 432x288 with 1 Axes>"
      ]
     },
     "metadata": {},
     "output_type": "display_data"
    }
   ],
   "source": [
    "data['RentIndex'].hist(bins=20)\n",
    "plt.title(\"RI\");\n"
   ]
  },
  {
   "cell_type": "code",
   "execution_count": 20,
   "metadata": {},
   "outputs": [
    {
     "data": {
      "image/png": "[encoded data removed]",
      "text/plain": [
       "<Figure size 432x288 with 1 Axes>"
      ]
     },
     "metadata": {},
     "output_type": "display_data"
    }
   ],
   "source": [
    "data['GroceriesIndex'].hist(bins=20)\n",
    "plt.title('GI');"
   ]
  },
  {
   "cell_type": "code",
   "execution_count": 21,
   "metadata": {},
   "outputs": [
    {
     "data": {
      "image/png": "[encoded data removed]",
      "text/plain": [
       "<Figure size 432x288 with 1 Axes>"
      ]
     },
     "metadata": {},
     "output_type": "display_data"
    }
   ],
   "source": [
    "data['RestaurantPriceIndex'].hist()\n",
    "plt.title('RI');"
   ]
  },
  {
   "cell_type": "code",
   "execution_count": 22,
   "metadata": {},
   "outputs": [
    {
     "data": {
      "image/png": "[encoded data removed]",
      "text/plain": [
       "<Figure size 432x288 with 1 Axes>"
      ]
     },
     "metadata": {},
     "output_type": "display_data"
    }
   ],
   "source": [
    "data['LocalPurchasingPowerIndex'].hist(bins=20)\n",
    "plt.title('GI');"
   ]
  },
  {
   "cell_type": "markdown",
   "metadata": {},
   "source": [
    "\n",
    "\n",
    "---\n",
    "\n",
    "## Correlations"
   ]
  },
  {
   "cell_type": "code",
   "execution_count": 23,
   "metadata": {},
   "outputs": [
    {
     "data": {
      "text/html": [
       "<div>\n",
       "<style scoped>\n",
       "    .dataframe tbody tr th:only-of-type {\n",
       "        vertical-align: middle;\n",
       "    }\n",
       "\n",
       "    .dataframe tbody tr th {\n",
       "        vertical-align: top;\n",
       "    }\n",
       "\n",
       "    .dataframe thead th {\n",
       "        text-align: right;\n",
       "    }\n",
       "</style>\n",
       "<table border=\"1\" class=\"dataframe\">\n",
       "  <thead>\n",
       "    <tr style=\"text-align: right;\">\n",
       "      <th></th>\n",
       "      <th>CostofLivingIndex</th>\n",
       "      <th>RentIndex</th>\n",
       "      <th>GroceriesIndex</th>\n",
       "      <th>RestaurantPriceIndex</th>\n",
       "      <th>LocalPurchasingPowerIndex</th>\n",
       "    </tr>\n",
       "  </thead>\n",
       "  <tbody>\n",
       "    <tr>\n",
       "      <th>CostofLivingIndex</th>\n",
       "      <td>1.000000</td>\n",
       "      <td>0.785660</td>\n",
       "      <td>0.951882</td>\n",
       "      <td>0.950629</td>\n",
       "      <td>0.642080</td>\n",
       "    </tr>\n",
       "    <tr>\n",
       "      <th>RentIndex</th>\n",
       "      <td>0.785660</td>\n",
       "      <td>1.000000</td>\n",
       "      <td>0.767436</td>\n",
       "      <td>0.752309</td>\n",
       "      <td>0.600043</td>\n",
       "    </tr>\n",
       "    <tr>\n",
       "      <th>GroceriesIndex</th>\n",
       "      <td>0.951882</td>\n",
       "      <td>0.767436</td>\n",
       "      <td>1.000000</td>\n",
       "      <td>0.851855</td>\n",
       "      <td>0.645834</td>\n",
       "    </tr>\n",
       "    <tr>\n",
       "      <th>RestaurantPriceIndex</th>\n",
       "      <td>0.950629</td>\n",
       "      <td>0.752309</td>\n",
       "      <td>0.851855</td>\n",
       "      <td>1.000000</td>\n",
       "      <td>0.643693</td>\n",
       "    </tr>\n",
       "    <tr>\n",
       "      <th>LocalPurchasingPowerIndex</th>\n",
       "      <td>0.642080</td>\n",
       "      <td>0.600043</td>\n",
       "      <td>0.645834</td>\n",
       "      <td>0.643693</td>\n",
       "      <td>1.000000</td>\n",
       "    </tr>\n",
       "  </tbody>\n",
       "</table>\n",
       "</div>"
      ],
      "text/plain": [
       "                           CostofLivingIndex  RentIndex  GroceriesIndex  \\\n",
       "CostofLivingIndex                   1.000000   0.785660        0.951882   \n",
       "RentIndex                           0.785660   1.000000        0.767436   \n",
       "GroceriesIndex                      0.951882   0.767436        1.000000   \n",
       "RestaurantPriceIndex                0.950629   0.752309        0.851855   \n",
       "LocalPurchasingPowerIndex           0.642080   0.600043        0.645834   \n",
       "\n",
       "                           RestaurantPriceIndex  LocalPurchasingPowerIndex  \n",
       "CostofLivingIndex                      0.950629                   0.642080  \n",
       "RentIndex                              0.752309                   0.600043  \n",
       "GroceriesIndex                         0.851855                   0.645834  \n",
       "RestaurantPriceIndex                   1.000000                   0.643693  \n",
       "LocalPurchasingPowerIndex              0.643693                   1.000000  "
      ]
     },
     "execution_count": 23,
     "metadata": {},
     "output_type": "execute_result"
    }
   ],
   "source": [
    "\n",
    "data.corr()"
   ]
  },
  {
   "cell_type": "code",
   "execution_count": 24,
   "metadata": {},
   "outputs": [
    {
     "data": {
      "image/png": "[encoded data removed]",
      "text/plain": [
       "<Figure size 432x288 with 2 Axes>"
      ]
     },
     "metadata": {},
     "output_type": "display_data"
    }
   ],
   "source": [
    "sns.heatmap(data.corr());"
   ]
  },
  {
   "cell_type": "code",
   "execution_count": null,
   "metadata": {},
   "outputs": [],
   "source": []
  },
  {
   "cell_type": "code",
   "execution_count": 25,
   "metadata": {},
   "outputs": [
    {
     "name": "stderr",
     "output_type": "stream",
     "text": [
      "C:\\Users\\Revanth Sivaraju\\Anaconda31\\lib\\site-packages\\sklearn\\cross_validation.py:41: DeprecationWarning: This module was deprecated in version 0.18 in favor of the model_selection module into which all the refactored classes and functions are moved. Also note that the interface of the new CV iterators are different from that of this module. This module will be removed in 0.20.\n",
      "  \"This module will be removed in 0.20.\", DeprecationWarning)\n"
     ]
    }
   ],
   "source": [
    "from sklearn.preprocessing import StandardScaler\n",
    "from sklearn import linear_model\n",
    "from sklearn.cross_validation import cross_val_predict\n",
    "\n",
    "scale = StandardScaler()"
   ]
  },
  {
   "cell_type": "code",
   "execution_count": 36,
   "metadata": {},
   "outputs": [],
   "source": [
    "x = data.iloc[:, 1:6]\n",
    "y = data[['CostofLivingIndex']]"
   ]
  },
  {
   "cell_type": "code",
   "execution_count": 37,
   "metadata": {},
   "outputs": [],
   "source": [
    "x_scaled = scale.fit_transform(x)"
   ]
  },
  {
   "cell_type": "code",
   "execution_count": 38,
   "metadata": {},
   "outputs": [],
   "source": [
    "lr = linear_model.LinearRegression()\n",
    "LR = lr.fit(x, y)"
   ]
  },
  {
   "cell_type": "code",
   "execution_count": 39,
   "metadata": {},
   "outputs": [
    {
     "data": {
      "text/plain": [
       "array([10.66385247])"
      ]
     },
     "execution_count": 39,
     "metadata": {},
     "output_type": "execute_result"
    }
   ],
   "source": [
    "LR.intercept_"
   ]
  },
  {
   "cell_type": "code",
   "execution_count": 40,
   "metadata": {},
   "outputs": [
    {
     "data": {
      "text/plain": [
       "array([[ 0.02610766,  0.47939881,  0.43244593, -0.02621539]])"
      ]
     },
     "execution_count": 40,
     "metadata": {},
     "output_type": "execute_result"
    }
   ],
   "source": [
    "LR.coef_"
   ]
  },
  {
   "cell_type": "code",
   "execution_count": null,
   "metadata": {},
   "outputs": [],
   "source": [
    "# Regression Equation\n",
    "LR.intercept_ + LR.coef_[0] * X1 + LR.coef_[1] * X2 + LR.coef_[2] * X3"
   ]
  },
  {
   "cell_type": "code",
   "execution_count": 42,
   "metadata": {},
   "outputs": [],
   "source": [
    "yhat = LR.predict(x_scaled)"
   ]
  },
  {
   "cell_type": "code",
   "execution_count": 43,
   "metadata": {
    "scrolled": true
   },
   "outputs": [],
   "source": [
    "predicted = cross_val_predict(lr, x, y, cv=10)"
   ]
  },
  {
   "cell_type": "code",
   "execution_count": 44,
   "metadata": {},
   "outputs": [],
   "source": [
    "def predictSales(RentIndex,GroceriesIndex,RestaurantPriceIndex,LocalPurchasingPowerIndex):\n",
    "    return(10.66385247 + (0.02610766*RentIndex) + (0.47939881*GroceriesIndex) + (0.43244593*RestaurantPriceIndex)-(0.02621539*LocalPurchasingPowerIndex))"
   ]
  },
  {
   "cell_type": "code",
   "execution_count": 45,
   "metadata": {},
   "outputs": [
    {
     "data": {
      "text/html": [
       "<div>\n",
       "<style scoped>\n",
       "    .dataframe tbody tr th:only-of-type {\n",
       "        vertical-align: middle;\n",
       "    }\n",
       "\n",
       "    .dataframe tbody tr th {\n",
       "        vertical-align: top;\n",
       "    }\n",
       "\n",
       "    .dataframe thead th {\n",
       "        text-align: right;\n",
       "    }\n",
       "</style>\n",
       "<table border=\"1\" class=\"dataframe\">\n",
       "  <thead>\n",
       "    <tr style=\"text-align: right;\">\n",
       "      <th></th>\n",
       "      <th>CostofLivingIndex</th>\n",
       "      <th>RentIndex</th>\n",
       "      <th>GroceriesIndex</th>\n",
       "      <th>RestaurantPriceIndex</th>\n",
       "      <th>LocalPurchasingPowerIndex</th>\n",
       "    </tr>\n",
       "    <tr>\n",
       "      <th>Rank</th>\n",
       "      <th></th>\n",
       "      <th></th>\n",
       "      <th></th>\n",
       "      <th></th>\n",
       "      <th></th>\n",
       "    </tr>\n",
       "  </thead>\n",
       "  <tbody>\n",
       "    <tr>\n",
       "      <th>1</th>\n",
       "      <td>149.53</td>\n",
       "      <td>66.76</td>\n",
       "      <td>163.71</td>\n",
       "      <td>140.58</td>\n",
       "      <td>126.30</td>\n",
       "    </tr>\n",
       "    <tr>\n",
       "      <th>2</th>\n",
       "      <td>148.13</td>\n",
       "      <td>117.80</td>\n",
       "      <td>145.20</td>\n",
       "      <td>152.54</td>\n",
       "      <td>93.42</td>\n",
       "    </tr>\n",
       "    <tr>\n",
       "      <th>3</th>\n",
       "      <td>142.54</td>\n",
       "      <td>67.39</td>\n",
       "      <td>148.36</td>\n",
       "      <td>143.18</td>\n",
       "      <td>105.62</td>\n",
       "    </tr>\n",
       "    <tr>\n",
       "      <th>4</th>\n",
       "      <td>142.12</td>\n",
       "      <td>70.25</td>\n",
       "      <td>147.13</td>\n",
       "      <td>138.96</td>\n",
       "      <td>115.20</td>\n",
       "    </tr>\n",
       "    <tr>\n",
       "      <th>5</th>\n",
       "      <td>142.02</td>\n",
       "      <td>51.54</td>\n",
       "      <td>149.54</td>\n",
       "      <td>131.72</td>\n",
       "      <td>113.13</td>\n",
       "    </tr>\n",
       "  </tbody>\n",
       "</table>\n",
       "</div>"
      ],
      "text/plain": [
       "      CostofLivingIndex  RentIndex  GroceriesIndex  RestaurantPriceIndex  \\\n",
       "Rank                                                                       \n",
       "1                149.53      66.76          163.71                140.58   \n",
       "2                148.13     117.80          145.20                152.54   \n",
       "3                142.54      67.39          148.36                143.18   \n",
       "4                142.12      70.25          147.13                138.96   \n",
       "5                142.02      51.54          149.54                131.72   \n",
       "\n",
       "      LocalPurchasingPowerIndex  \n",
       "Rank                             \n",
       "1                        126.30  \n",
       "2                         93.42  \n",
       "3                        105.62  \n",
       "4                        115.20  \n",
       "5                        113.13  "
      ]
     },
     "execution_count": 45,
     "metadata": {},
     "output_type": "execute_result"
    }
   ],
   "source": [
    "data.head()"
   ]
  },
  {
   "cell_type": "code",
   "execution_count": 46,
   "metadata": {
    "scrolled": true
   },
   "outputs": [
    {
     "data": {
      "text/plain": [
       "148.3714241191"
      ]
     },
     "execution_count": 46,
     "metadata": {},
     "output_type": "execute_result"
    }
   ],
   "source": [
    "predictSales(66.76,163.71,140.58,126.30)"
   ]
  },
  {
   "cell_type": "code",
   "execution_count": 47,
   "metadata": {
    "scrolled": true
   },
   "outputs": [
    {
     "data": {
      "text/plain": [
       "34.801204070000004"
      ]
     },
     "execution_count": 47,
     "metadata": {},
     "output_type": "execute_result"
    }
   ],
   "source": [
    "predictSales(500, 10, 20,90)"
   ]
  },
  {
   "cell_type": "code",
   "execution_count": 49,
   "metadata": {},
   "outputs": [
    {
     "data": {
      "text/plain": [
       "59.88753497"
      ]
     },
     "execution_count": 49,
     "metadata": {},
     "output_type": "execute_result"
    }
   ],
   "source": [
    "predictSales(17.2,45.9,69.3,122)"
   ]
  },
  {
   "cell_type": "code",
   "execution_count": 50,
   "metadata": {},
   "outputs": [
    {
     "data": {
      "text/plain": [
       "0.9781868337978363"
      ]
     },
     "execution_count": 50,
     "metadata": {},
     "output_type": "execute_result"
    }
   ],
   "source": [
    "LR.score(x, y, sample_weight=None)"
   ]
  },
  {
   "cell_type": "code",
   "execution_count": null,
   "metadata": {},
   "outputs": [],
   "source": []
  }
 ],
 "metadata": {
  "kernelspec": {
   "display_name": "Python 3",
   "language": "python",
   "name": "python3"
  },
  "language_info": {
   "codemirror_mode": {
    "name": "ipython",
    "version": 3
   },
   "file_extension": ".py",
   "mimetype": "text/x-python",
   "name": "python",
   "nbconvert_exporter": "python",
   "pygments_lexer": "ipython3",
   "version": "3.6.5"
  }
 },
 "nbformat": 4,
 "nbformat_minor": 1
}
